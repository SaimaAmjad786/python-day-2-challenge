{
  "nbformat": 4,
  "nbformat_minor": 0,
  "metadata": {
    "colab": {
      "provenance": [],
      "authorship_tag": "ABX9TyOTjK/G0WT/iQKklH5MC6Gq",
      "include_colab_link": true
    },
    "kernelspec": {
      "name": "python3",
      "display_name": "Python 3"
    },
    "language_info": {
      "name": "python"
    }
  },
  "cells": [
    {
      "cell_type": "markdown",
      "metadata": {
        "id": "view-in-github",
        "colab_type": "text"
      },
      "source": [
        "<a href=\"https://colab.research.google.com/github/SaimaAmjad786/python-day-2-challenge/blob/main/day2.ipynb\" target=\"_parent\"><img src=\"https://colab.research.google.com/assets/colab-badge.svg\" alt=\"Open In Colab\"/></a>"
      ]
    },
    {
      "cell_type": "markdown",
      "source": [
        "**Python program that takes a sentence from the user and counts the number of words in that sentence.\"**"
      ],
      "metadata": {
        "id": "Ejomi7dL6Ulq"
      }
    },
    {
      "cell_type": "code",
      "execution_count": 42,
      "metadata": {
        "colab": {
          "base_uri": "https://localhost:8080/"
        },
        "id": "6ZmhSEanr_4o",
        "outputId": "98210acb-2eb7-4124-b11c-7c72af213b09"
      },
      "outputs": [
        {
          "output_type": "stream",
          "name": "stdout",
          "text": [
            "Enter your message:python is a high level programing language python is simple and easy\n",
            "python is a high level programing language python is simple and easy\n",
            " total words in sentence: 12\n"
          ]
        }
      ],
      "source": [
        "user_input = input(\"Enter your message:\")\n",
        "break_words= user_input.split()\n",
        "count_words=len(break_words)\n",
        "print(f\"{user_input}\\n total words in sentence: {count_words}\")"
      ]
    },
    {
      "cell_type": "markdown",
      "source": [
        "***Modify the words in such a way that they are printed in reverse order.***"
      ],
      "metadata": {
        "id": "-GID__E89EFF"
      }
    },
    {
      "cell_type": "code",
      "source": [
        "words =user_input.split()\n",
        "reverse_words=words.reverse()\n",
        "reverse_words=' '.join(words)\n",
        "print(f\"Reverse Words is : {reverse_words}\")"
      ],
      "metadata": {
        "colab": {
          "base_uri": "https://localhost:8080/"
        },
        "id": "hZ-meF-f8Gcn",
        "outputId": "dca0773b-10b6-48ef-8e0d-a40246e48b5f"
      },
      "execution_count": 44,
      "outputs": [
        {
          "output_type": "stream",
          "name": "stdout",
          "text": [
            "Reverse Words is : easy and simple is python language programing level high a is python\n"
          ]
        }
      ]
    }
  ]
}